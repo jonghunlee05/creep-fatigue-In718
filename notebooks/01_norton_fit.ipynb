{
 "cells": [
  {
   "cell_type": "markdown",
   "id": "ef080986",
   "metadata": {},
   "source": [
    "Cell 1 - Imports"
   ]
  },
  {
   "cell_type": "code",
   "execution_count": null,
   "id": "c020e038",
   "metadata": {},
   "outputs": [],
   "source": [
    "# What this notebook does:\n",
    "# - Loads processed IN718 creep data\n",
    "# - Visualizes per-temperature trends\n",
    "# - Fits Norton’s law (A, n, Q) or (A, n | Q fixed)\n",
    "# - Saves calibrated parameters and figures\n",
    "\n",
    "import os, sys, numpy as np, pandas as pd, matplotlib.pyplot as plt\n",
    "sys.path.append(os.path.abspath(\".\"))  # repo root\n",
    "from models.creep.norton import R, norton_law, fit_norton\n"
   ]
  },
  {
   "cell_type": "markdown",
   "id": "9c1e0825",
   "metadata": {},
   "source": [
    "Cell 2 - Load Data"
   ]
  },
  {
   "cell_type": "code",
   "execution_count": null,
   "id": "62028fc6",
   "metadata": {},
   "outputs": [],
   "source": [
    "csv_path = \"data/processed/creep_in718.csv\"\n",
    "df = pd.read_csv(csv_path)\n",
    "\n",
    "# Adjust names if needed:\n",
    "stress_col = \"stress_MPa\"\n",
    "temp_col   = \"T_K\"\n",
    "rate_col   = \"epsdot_1_per_s\"\n",
    "\n",
    "df = df[[stress_col, temp_col, rate_col]].dropna().rename(\n",
    "    columns={stress_col:\"stress\", temp_col:\"T\", rate_col:\"epsdot\"}\n",
    ")\n",
    "df.head()\n"
   ]
  },
  {
   "cell_type": "markdown",
   "id": "6bb46a1f",
   "metadata": {},
   "source": [
    "Cell 3 - Quick EDA"
   ]
  },
  {
   "cell_type": "code",
   "execution_count": null,
   "id": "ba568106",
   "metadata": {},
   "outputs": [],
   "source": [
    "plt.figure()\n",
    "for T, g in df.groupby(np.round(df[\"T\"], 0)):\n",
    "    plt.loglog(g[\"stress\"], g[\"epsdot\"], \"o\", label=f\"{T:.0f} K\")\n",
    "plt.xlabel(\"Stress [MPa] (log)\")\n",
    "plt.ylabel(\"Creep rate [1/s] (log)\")\n",
    "plt.title(\"IN718 creep — processed data (log–log)\")\n",
    "plt.legend()\n",
    "plt.show()\n",
    "\n",
    "single_T = df[\"T\"].nunique() == 1\n",
    "single_T, df[\"T\"].unique()\n"
   ]
  },
  {
   "cell_type": "markdown",
   "id": "d9f8dc9a",
   "metadata": {},
   "source": [
    "Cell 4 - Fit"
   ]
  },
  {
   "cell_type": "code",
   "execution_count": null,
   "id": "c0a8ac39",
   "metadata": {},
   "outputs": [],
   "source": [
    "stress = df[\"stress\"].to_numpy()\n",
    "T = df[\"T\"].to_numpy()\n",
    "epsdot = df[\"epsdot\"].to_numpy()\n",
    "\n",
    "if single_T:\n",
    "    Q_fix = 3.0e5  # J/mol; change if you have a literature value\n",
    "    from scipy.optimize import curve_fit\n",
    "    def model_fixed_Q(X, A, n): s, t = X; return norton_law(s, t, A, n, Q_fix)\n",
    "    popt, pcov = curve_fit(model_fixed_Q, (stress, T), epsdot, p0=(1e-7, 5.0), maxfev=20000)\n",
    "    A_fit, n_fit = popt\n",
    "    params = (A_fit, n_fit, Q_fix)\n",
    "else:\n",
    "    params, pcov = fit_norton(stress, T, epsdot, p0=(1e-7, 5.0, 3.0e5))\n",
    "\n",
    "A_fit, n_fit, Q_fit = params\n",
    "A_fit, n_fit, Q_fit\n"
   ]
  },
  {
   "cell_type": "markdown",
   "id": "7c06813f",
   "metadata": {},
   "source": [
    "Cell 5 - Diagnostics"
   ]
  },
  {
   "cell_type": "code",
   "execution_count": null,
   "id": "c8a8f1bf",
   "metadata": {},
   "outputs": [],
   "source": [
    "pred = norton_law(stress, T, A_fit, n_fit, Q_fit)\n",
    "y, yhat = np.log10(epsdot), np.log10(pred)\n",
    "r2_log = 1 - ((y - yhat)**2).sum() / ((y - y.mean())**2).sum()\n",
    "print(f\"R^2 (log-space) = {r2_log:.4f}\")\n",
    "\n",
    "plt.figure()\n",
    "plt.loglog(stress, epsdot, \"o\", label=\"data\")\n",
    "sgrid = np.linspace(stress.min()*0.9, stress.max()*1.1, 200)\n",
    "Tplot = np.median(T)\n",
    "plt.loglog(sgrid, norton_law(sgrid, Tplot, A_fit, n_fit, Q_fit), \"-\", label=f\"fit @ ~{Tplot:.0f} K\")\n",
    "plt.xlabel(\"Stress [MPa] (log)\"); plt.ylabel(\"Rate [1/s] (log)\")\n",
    "plt.title(\"Norton fit — log–log\"); plt.legend(); plt.show()\n",
    "\n",
    "plt.figure()\n",
    "plt.loglog(epsdot, pred, \"o\"); lims=[min(epsdot.min(), pred.min())*0.8, max(epsdot.max(), pred.max())*1.2]\n",
    "plt.plot(lims, lims, \"--\"); plt.xlabel(\"Measured [1/s] (log)\"); plt.ylabel(\"Predicted [1/s] (log)\")\n",
    "plt.title(\"Predicted vs Measured\"); plt.show()\n"
   ]
  }
 ],
 "metadata": {
  "language_info": {
   "name": "python"
  }
 },
 "nbformat": 4,
 "nbformat_minor": 5
}
